{
  "nbformat": 4,
  "nbformat_minor": 0,
  "metadata": {
    "colab": {
      "provenance": [],
      "authorship_tag": "ABX9TyPlOaSe+4F/Y9m4InvmcOpo",
      "include_colab_link": true
    },
    "kernelspec": {
      "name": "python3",
      "display_name": "Python 3"
    },
    "language_info": {
      "name": "python"
    }
  },
  "cells": [
    {
      "cell_type": "markdown",
      "metadata": {
        "id": "view-in-github",
        "colab_type": "text"
      },
      "source": [
        "<a href=\"https://colab.research.google.com/github/AlinaSabitova/Individual_tasks/blob/main/%D0%98%D0%BD%D0%B4%D0%B8%D0%B2%D0%B8%D0%B41.ipynb\" target=\"_parent\"><img src=\"https://colab.research.google.com/assets/colab-badge.svg\" alt=\"Open In Colab\"/></a>"
      ]
    },
    {
      "cell_type": "code",
      "execution_count": 1,
      "metadata": {
        "colab": {
          "base_uri": "https://localhost:8080/"
        },
        "id": "zSUyzxCP-i8p",
        "outputId": "a8fa00a8-2dee-47da-cada-0f58381415cc"
      },
      "outputs": [
        {
          "output_type": "stream",
          "name": "stdout",
          "text": [
            "Первый альбом - JHG\n",
            "название трека G - длительность 3 \n",
            "название трека Y - длительность 1.5 \n",
            "название трека D - длительность 2 \n",
            "None\n",
            "Длительность альбома JHG - 6.5\n",
            "Второй альбом - YYY\n",
            "название трека A - длительность 2 \n",
            "название трека B - длительность 1.5 \n",
            "название трека C - длительность 2 \n",
            "None\n",
            "Длительность альбома YYY - 5.5\n"
          ]
        }
      ],
      "source": [
        "class Track:\n",
        "  def __init__(self, track_name, duration):\n",
        "    self.track_name = track_name\n",
        "    self.duration = duration\n",
        "\n",
        "  def show(self):\n",
        "    return \"{} - {}\".format(self.track_name, self.duration)\n",
        "\n",
        "class Album:\n",
        "  def __init__(self, album_name, group, track1, track2, track3, dur1, dur2, dur3, new_track):\n",
        "    self.album_name = album_name\n",
        "    self.group = group\n",
        "    self.track1 = track1\n",
        "    self.track2 = track2\n",
        "    self.track3 = track3\n",
        "    self.tracks = [self.track1, self.track2, self.track3]\n",
        "    self.dur1 = dur1\n",
        "    self.dur2 = dur2\n",
        "    self.dur3 = dur3\n",
        "    self.new_track = new_track\n",
        "\n",
        "  def get_tracks(self):\n",
        "    print(\"название трека {} - длительность {} \".format(self.track1, self.dur1))\n",
        "    print(\"название трека {} - длительность {} \".format(self.track2, self.dur2))\n",
        "    print(\"название трека {} - длительность {} \".format(self.track3, self.dur3))\n",
        "\n",
        "  def add_tracks(self, new_track):\n",
        "    self.tracks.append(self.new_track)\n",
        "    return self.tracks\n",
        "\n",
        "  def get_duration(self):\n",
        "    album_duration = self.dur1 + self.dur2 + self.dur3\n",
        "    return album_duration\n",
        "\n",
        "a = Album(\"JHG\", \"KGKH\", \"G\", \"Y\", \"D\", 3, 1.5, 2, \"-\")\n",
        "print(\"Первый альбом - {}\".format(a.album_name))\n",
        "print(a.get_tracks())\n",
        "print(\"Длительность альбома {} - {}\".format(a.album_name, a.get_duration()))\n",
        "b = Album(\"YYY\", \"Big\", \"A\", \"B\", \"C\", 2, 1.5, 2, \"-\")\n",
        "print(\"Второй альбом - {}\".format(b.album_name))\n",
        "print(b.get_tracks())\n",
        "print(\"Длительность альбома {} - {}\".format(b.album_name, b.get_duration()))"
      ]
    }
  ]
}